{
  "nbformat": 4,
  "nbformat_minor": 0,
  "metadata": {
    "colab": {
      "provenance": [],
      "authorship_tag": "ABX9TyOXTn0L0JnaOyIL3NcFhtlN",
      "include_colab_link": true
    },
    "kernelspec": {
      "name": "python3",
      "display_name": "Python 3"
    },
    "language_info": {
      "name": "python"
    }
  },
  "cells": [
    {
      "cell_type": "markdown",
      "metadata": {
        "id": "view-in-github",
        "colab_type": "text"
      },
      "source": [
        "<a href=\"https://colab.research.google.com/github/G-Shillcock/Division_of_Labour/blob/main/DoLBrute.ipynb\" target=\"_parent\"><img src=\"https://colab.research.google.com/assets/colab-badge.svg\" alt=\"Open In Colab\"/></a>"
      ]
    },
    {
      "cell_type": "code",
      "source": [
        "import sympy as sp\n",
        "from sympy import print_latex\n",
        "from tqdm import tqdm\n",
        "import itertools as it\n",
        "import matplotlib.pyplot as plt\n",
        "import numpy as np\n",
        "\n",
        "L = sp.symbols('\\lambda', positive=True)\n",
        "\n",
        "def find_max(n):\n",
        "\n",
        "    A = sp.Matrix(sp.symbols(f'A:{n}', positive=True))\n",
        "    B = sp.Matrix(sp.symbols(f'B:{n}', positive=True))\n",
        "\n",
        "    G = L*sp.ones(n,n)+(1-2*L)*sp.eye(n)\n",
        "    display(G)\n",
        "    W = (A.transpose()*G*B)[0]\n",
        "\n",
        "    maxW = 0\n",
        "    count =0\n",
        "    for i in list(it.product([0,1], repeat=n)):\n",
        "        j = (int(not x) for x in i)\n",
        "\n",
        "        Asubs = dict(zip(A,i))\n",
        "        Bsubs = dict(zip(B,j))\n",
        "\n",
        "        if W.subs(Asubs).subs(Bsubs).subs(L,1) == 26:\n",
        "            print('oops')\n",
        "\n",
        "        if maxW < W.subs(Asubs).subs(Bsubs).subs(L,1):\n",
        "            maxW = W.subs(Asubs).subs(Bsubs).subs(L,1)\n",
        "            allocation = i\n",
        "\n",
        "    return maxW, allocation\n",
        "\n",
        "# n = np.arange(2,13)\n",
        "# max = [find_max(n) for n in tqdm(n)]\n",
        "# fig, ax = plt.subplots()\n",
        "# ax.plot(n, max)\n",
        "# ax.plot(n,n**2/4)\n",
        "\n",
        "find_max(4)"
      ],
      "metadata": {
        "colab": {
          "base_uri": "https://localhost:8080/",
          "height": 116
        },
        "id": "bGbJb_UKjTw3",
        "outputId": "2c0a5994-d349-4e43-daf6-a811e749cffd"
      },
      "execution_count": null,
      "outputs": [
        {
          "output_type": "display_data",
          "data": {
            "text/plain": [
              "Matrix([\n",
              "[1 - \\lambda,     \\lambda,     \\lambda,     \\lambda],\n",
              "[    \\lambda, 1 - \\lambda,     \\lambda,     \\lambda],\n",
              "[    \\lambda,     \\lambda, 1 - \\lambda,     \\lambda],\n",
              "[    \\lambda,     \\lambda,     \\lambda, 1 - \\lambda]])"
            ],
            "text/latex": "$\\displaystyle \\left[\\begin{matrix}1 - \\lambda & \\lambda & \\lambda & \\lambda\\\\\\lambda & 1 - \\lambda & \\lambda & \\lambda\\\\\\lambda & \\lambda & 1 - \\lambda & \\lambda\\\\\\lambda & \\lambda & \\lambda & 1 - \\lambda\\end{matrix}\\right]$"
          },
          "metadata": {}
        },
        {
          "output_type": "execute_result",
          "data": {
            "text/plain": [
              "(4, (0, 0, 1, 1))"
            ]
          },
          "metadata": {},
          "execution_count": 1
        }
      ]
    },
    {
      "cell_type": "code",
      "source": [
        "import sympy as sp\n",
        "from sympy import print_latex\n",
        "\n",
        "t1, t2, t, a, b, L, n = sp.symbols('t_1, t_2, t, a, b, \\lambda, n', positive=True)\n",
        "\n",
        "A1 = sp.Function('A1')(t1)\n",
        "A2 = sp.Function('A2')(t2)\n",
        "B1 = sp.Function('B1')(t1)\n",
        "B2 = sp.Function('B2')(t2)\n",
        "\n",
        "W = (1-L)*(A1*B1 + A2*B2) + L*(A1*B2 + A2*B1)\n",
        "W = W.subs(B1,(1-t1)**b/b).subs(A1,t1**a).subs(B2,(1-t2)**b).subs(A2,t2**a)\n",
        "\n",
        "W = W.subs(L,0)\n",
        "display(W)\n",
        "\n",
        "W11 = W.diff(t1,t1).subs(t2,t1)\n",
        "W22 = W.diff(t2,t2).subs(t2,t1)\n",
        "W12 = W.diff(t1,t2).subs(t2,t1) # = 0\n",
        "\n",
        "(W11+W22).subs(t1,a/(a+b)).simplify() # which is always negative, so no DOL when l=0"
      ],
      "metadata": {
        "colab": {
          "base_uri": "https://localhost:8080/",
          "height": 63
        },
        "id": "YjP162rAPLBT",
        "outputId": "8552827e-00d6-4a11-8412-aa313e7aff6d"
      },
      "execution_count": null,
      "outputs": [
        {
          "output_type": "display_data",
          "data": {
            "text/plain": [
              "t_1**a*(1 - t_1)**b + t_2**a*(1 - t_2)**b"
            ],
            "text/latex": "$\\displaystyle t_{1}^{a} \\left(1 - t_{1}\\right)^{b} + t_{2}^{a} \\left(1 - t_{2}\\right)^{b}$"
          },
          "metadata": {}
        },
        {
          "output_type": "execute_result",
          "data": {
            "text/plain": [
              "2*a**(a - 1)*b**(b - 1)*(a + b)**(-a - b)*(-a**3 - 3*a**2*b - 3*a*b**2 - b**3)"
            ],
            "text/latex": "$\\displaystyle 2 a^{a - 1} b^{b - 1} \\left(a + b\\right)^{- a - b} \\left(- a^{3} - 3 a^{2} b - 3 a b^{2} - b^{3}\\right)$"
          },
          "metadata": {},
          "execution_count": 20
        }
      ]
    }
  ]
}