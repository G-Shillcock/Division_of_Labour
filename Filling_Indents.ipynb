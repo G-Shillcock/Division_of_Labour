{
  "nbformat": 4,
  "nbformat_minor": 0,
  "metadata": {
    "colab": {
      "provenance": [],
      "authorship_tag": "ABX9TyNg2odfqAHzjGfVb86YTl1e",
      "include_colab_link": true
    },
    "kernelspec": {
      "name": "python3",
      "display_name": "Python 3"
    },
    "language_info": {
      "name": "python"
    }
  },
  "cells": [
    {
      "cell_type": "markdown",
      "metadata": {
        "id": "view-in-github",
        "colab_type": "text"
      },
      "source": [
        "<a href=\"https://colab.research.google.com/github/G-Shillcock/Division_of_Labour/blob/main/Filling_Indents.ipynb\" target=\"_parent\"><img src=\"https://colab.research.google.com/assets/colab-badge.svg\" alt=\"Open In Colab\"/></a>"
      ]
    },
    {
      "cell_type": "code",
      "source": [
        "!pip install alphashape\n",
        "!pip install descartes"
      ],
      "metadata": {
        "colab": {
          "base_uri": "https://localhost:8080/"
        },
        "id": "9ghWwZojci46",
        "outputId": "9ce7394f-095e-4b30-aa32-8386c9f98a3a"
      },
      "execution_count": null,
      "outputs": [
        {
          "output_type": "stream",
          "name": "stdout",
          "text": [
            "Requirement already satisfied: alphashape in /usr/local/lib/python3.10/dist-packages (1.3.1)\n",
            "Requirement already satisfied: Click>=6.0 in /usr/local/lib/python3.10/dist-packages (from alphashape) (8.1.7)\n",
            "Requirement already satisfied: click-log>=0.3.2 in /usr/local/lib/python3.10/dist-packages (from alphashape) (0.4.0)\n",
            "Requirement already satisfied: shapely>=1.4.0 in /usr/local/lib/python3.10/dist-packages (from alphashape) (2.0.5)\n",
            "Requirement already satisfied: numpy>=1.8.0 in /usr/local/lib/python3.10/dist-packages (from alphashape) (1.26.4)\n",
            "Requirement already satisfied: trimesh>=3.9.8 in /usr/local/lib/python3.10/dist-packages (from alphashape) (4.4.3)\n",
            "Requirement already satisfied: networkx>=2.5 in /usr/local/lib/python3.10/dist-packages (from alphashape) (3.3)\n",
            "Requirement already satisfied: rtree>=0.9.7 in /usr/local/lib/python3.10/dist-packages (from alphashape) (1.3.0)\n",
            "Requirement already satisfied: scipy>=1.0.0 in /usr/local/lib/python3.10/dist-packages (from alphashape) (1.13.1)\n",
            "Requirement already satisfied: descartes in /usr/local/lib/python3.10/dist-packages (1.1.0)\n",
            "Requirement already satisfied: matplotlib in /usr/local/lib/python3.10/dist-packages (from descartes) (3.7.1)\n",
            "Requirement already satisfied: contourpy>=1.0.1 in /usr/local/lib/python3.10/dist-packages (from matplotlib->descartes) (1.2.1)\n",
            "Requirement already satisfied: cycler>=0.10 in /usr/local/lib/python3.10/dist-packages (from matplotlib->descartes) (0.12.1)\n",
            "Requirement already satisfied: fonttools>=4.22.0 in /usr/local/lib/python3.10/dist-packages (from matplotlib->descartes) (4.53.1)\n",
            "Requirement already satisfied: kiwisolver>=1.0.1 in /usr/local/lib/python3.10/dist-packages (from matplotlib->descartes) (1.4.5)\n",
            "Requirement already satisfied: numpy>=1.20 in /usr/local/lib/python3.10/dist-packages (from matplotlib->descartes) (1.26.4)\n",
            "Requirement already satisfied: packaging>=20.0 in /usr/local/lib/python3.10/dist-packages (from matplotlib->descartes) (24.1)\n",
            "Requirement already satisfied: pillow>=6.2.0 in /usr/local/lib/python3.10/dist-packages (from matplotlib->descartes) (9.4.0)\n",
            "Requirement already satisfied: pyparsing>=2.3.1 in /usr/local/lib/python3.10/dist-packages (from matplotlib->descartes) (3.1.2)\n",
            "Requirement already satisfied: python-dateutil>=2.7 in /usr/local/lib/python3.10/dist-packages (from matplotlib->descartes) (2.8.2)\n",
            "Requirement already satisfied: six>=1.5 in /usr/local/lib/python3.10/dist-packages (from python-dateutil>=2.7->matplotlib->descartes) (1.16.0)\n"
          ]
        }
      ]
    },
    {
      "cell_type": "code",
      "execution_count": 27,
      "metadata": {
        "colab": {
          "base_uri": "https://localhost:8080/",
          "height": 385
        },
        "id": "m0exGnniTJ9x",
        "outputId": "c08b3cc4-7a1c-488b-b934-314d1fcdd0c3"
      },
      "outputs": [
        {
          "output_type": "stream",
          "name": "stderr",
          "text": [
            "100%|██████████| 630/630 [00:00<00:00, 22934.61it/s]\n"
          ]
        },
        {
          "output_type": "display_data",
          "data": {
            "text/plain": [
              "<Figure size 400x400 with 1 Axes>"
            ],
            "image/png": "[encoded data removed]"
          },
          "metadata": {}
        }
      ],
      "source": [
        "import numpy as np\n",
        "import matplotlib.pyplot as plt\n",
        "import itertools as it\n",
        "from tqdm import tqdm\n",
        "import math\n",
        "import alphashape\n",
        "\n",
        "def calc_set_average(n, d=25, α=20, a=.5, b=9):\n",
        "\n",
        "    points = set()\n",
        "    t = np.linspace(0,1,d)**2\n",
        "\n",
        "    plt.figure(figsize=(4, 4))\n",
        "    plt.plot(t**a, (1-t)**b)\n",
        "\n",
        "    for ts in tqdm(it.combinations_with_replacement(t, n),total=math.comb(d+n-1,n)):\n",
        "\n",
        "        if len(set(ts))==1:\n",
        "            pass\n",
        "        else:\n",
        "            ts = np.array(ts)\n",
        "\n",
        "            xs = ts**a\n",
        "            ys = (1-ts)**b\n",
        "\n",
        "            x_avg = sum(xs)/len(xs)\n",
        "            y_avg = sum(ys)/len(ys)\n",
        "\n",
        "            if y_avg >= (1-x_avg**(1/a))**b:\n",
        "                points.add((x_avg, y_avg))\n",
        "\n",
        "    points = list(points)\n",
        "\n",
        "    alpha_shape = alphashape.alphashape(points, α)\n",
        "\n",
        "    plt.plot(*alpha_shape.exterior.xy)\n",
        "    plt.savefig(f'minkowski_average_{n}.svg')\n",
        "    plt.show()\n",
        "\n",
        "calc_set_average(2,35,30)\n"
      ]
    }
  ]
}