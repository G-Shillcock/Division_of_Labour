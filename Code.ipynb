{
  "nbformat": 4,
  "nbformat_minor": 0,
  "metadata": {
    "colab": {
      "provenance": [],
      "include_colab_link": true
    },
    "kernelspec": {
      "name": "python3",
      "display_name": "Python 3"
    },
    "language_info": {
      "name": "python"
    }
  },
  "cells": [
    {
      "cell_type": "markdown",
      "metadata": {
        "id": "view-in-github",
        "colab_type": "text"
      },
      "source": [
        "<a href=\"https://colab.research.google.com/github/G-Shillcock/Division_of_Labour/blob/main/Code.ipynb\" target=\"_parent\"><img src=\"https://colab.research.google.com/assets/colab-badge.svg\" alt=\"Open In Colab\"/></a>"
      ]
    },
    {
      "cell_type": "code",
      "source": [
        "from sympy import symbols, Eq, IndexedBase, Sum, solve\n",
        "\n",
        "#### Define model parameters\n",
        "\n",
        "μ = symbols('μ')                            # shareability\n",
        "a, b = symbols('a, b', positive=True)       # task elasticities\n",
        "k = symbols('k', positive=True)             # workaround so that n >=2\n",
        "n = k + 2                                   # group size\n",
        "i, j = symbols('i, j', integer=True)        # group member indices\n",
        "t = IndexedBase('t')                        # allocation to task A\n",
        "t_A = symbols('t_A')                        # optimum undivided allocation\n",
        "A = IndexedBase('A')                        # performances in task A\n",
        "B = IndexedBase('B')                        # performances in task B\n",
        "\n",
        "#### Define fitness\n",
        "\n",
        "W = (1-μ)*Sum(A[i]*B[i]/n,(i,0,n-1)) + μ*Sum(A[i]*B[j]/(n**2),(i,0,n-1),(j,0,n-1))\n",
        "W = W.doit()\n",
        "W = W.replace(A[i], t[i]**a).replace(B[j],(1-t[j])**b).replace(B[i],(1-t[i])**b).doit()\n",
        "display(Eq(symbols('W'), W))"
      ],
      "metadata": {
        "colab": {
          "base_uri": "https://localhost:8080/",
          "height": 83
        },
        "id": "sgYXpPQtTDOq",
        "outputId": "4c31a094-07b5-455f-cd25-225b57029142"
      },
      "execution_count": null,
      "outputs": [
        {
          "output_type": "display_data",
          "data": {
            "text/plain": [
              "Eq(W, μ*Sum((1 - t[j])**b*t[i]**a/(k + 2)**2, (i, 0, k + 1), (j, 0, k + 1)) + (1 - μ)*Sum((1 - t[i])**b*t[i]**a/(k + 2), (i, 0, k + 1)))"
            ],
            "text/latex": "$\\displaystyle W = μ \\sum_{\\substack{0 \\leq i \\leq k + 1\\\\0 \\leq j \\leq k + 1}} \\frac{\\left(1 - {t}_{j}\\right)^{b} {t}_{i}^{a}}{\\left(k + 2\\right)^{2}} + \\left(1 - μ\\right) \\sum_{i=0}^{k + 1} \\frac{\\left(1 - {t}_{i}\\right)^{b} {t}_{i}^{a}}{k + 2}$"
          },
          "metadata": {}
        }
      ]
    },
    {
      "cell_type": "code",
      "source": [
        "#### Find the optimum undivided allocation. This is presumed to be the ancestoral state.\n",
        "\n",
        "W_A = W.replace(t[i],t_A).replace(t[j],t_A).doit()\n",
        "display(Eq(t_A,solve(W_A.diff(t_A),t_A)[0]))"
      ],
      "metadata": {
        "id": "kpDhAQ2417Bb",
        "outputId": "6a3ba6f9-d9da-4337-de9d-5ad5968eb4a3",
        "colab": {
          "base_uri": "https://localhost:8080/",
          "height": 49
        }
      },
      "execution_count": null,
      "outputs": [
        {
          "output_type": "display_data",
          "data": {
            "text/plain": [
              "Eq(t_A, a/(a + b))"
            ],
            "text/latex": "$\\displaystyle t_{A} = \\frac{a}{a + b}$"
          },
          "metadata": {}
        }
      ]
    },
    {
      "cell_type": "code",
      "source": [
        "#### Find the critical value of the second-derivative at the ancestral state, in a direction towards unequal allocation i.e. division of labour.\n",
        "\n",
        "W00 = W.diff(t[0],t[0]).replace(t[i],t_A).replace(t[j],t_A).simplify()\n",
        "W10 = W.diff(t[1],t[0]).replace(t[i],t_A).replace(t[j],t_A).simplify()\n",
        "W01 = W.diff(t[0],t[1]).replace(t[i],t_A).replace(t[j],t_A).simplify()\n",
        "W11 = W.diff(t[1],t[1]).replace(t[i],t_A).replace(t[j],t_A).simplify()\n",
        "\n",
        "concavity = (W00+W11-W01-W10).subs(t_A, a/(a+b)).simplify()\n",
        "sol = solve(concavity,b)[0]\n",
        "display(Eq(b,sol))"
      ],
      "metadata": {
        "id": "NAATEvxC17Ja",
        "outputId": "59a67d4d-4766-4c29-e9e1-e264d2666789",
        "colab": {
          "base_uri": "https://localhost:8080/",
          "height": 51
        }
      },
      "execution_count": null,
      "outputs": [
        {
          "output_type": "display_data",
          "data": {
            "text/plain": [
              "Eq(b, a/(2*a*μ - 1))"
            ],
            "text/latex": "$\\displaystyle b = \\frac{a}{2 a μ - 1}$"
          },
          "metadata": {}
        }
      ]
    },
    {
      "cell_type": "code",
      "source": [
        "#### Rearranging gives the formular from the paper.\n",
        "display(Eq(2/(1/a+1/b),(2/(1/sol+1/a)).simplify()))"
      ],
      "metadata": {
        "id": "tsEvnH9a17MB",
        "outputId": "b241b19d-20c6-4e52-d823-b80b730dbe0d",
        "colab": {
          "base_uri": "https://localhost:8080/",
          "height": 58
        }
      },
      "execution_count": null,
      "outputs": [
        {
          "output_type": "display_data",
          "data": {
            "text/plain": [
              "Eq(2/(1/b + 1/a), 1/μ)"
            ],
            "text/latex": "$\\displaystyle \\frac{2}{\\frac{1}{b} + \\frac{1}{a}} = \\frac{1}{μ}$"
          },
          "metadata": {}
        }
      ]
    },
    {
      "cell_type": "markdown",
      "source": [
        "If division of labour is favourable, what is the optimal allocation?"
      ],
      "metadata": {
        "id": "MXd7ny_-DZVv"
      }
    },
    {
      "cell_type": "code",
      "source": [
        "n=5\n",
        "W.subs({μ:1,k:n-2,a:2,b:3}).doit()"
      ],
      "metadata": {
        "id": "mm6_5kJlQReI",
        "outputId": "b2c499f0-d92c-4f99-8944-9ae57603c7d7",
        "colab": {
          "base_uri": "https://localhost:8080/",
          "height": 58
        }
      },
      "execution_count": null,
      "outputs": [
        {
          "output_type": "execute_result",
          "data": {
            "text/plain": [
              "((1 - t[0])**3 + (1 - t[1])**3 + (1 - t[2])**3 + (1 - t[3])**3 + (1 - t[4])**3)*(t[0]**2/25 + t[1]**2/25 + t[2]**2/25 + t[3]**2/25 + t[4]**2/25)"
            ],
            "text/latex": "$\\displaystyle \\left(\\left(1 - {t}_{0}\\right)^{3} + \\left(1 - {t}_{1}\\right)^{3} + \\left(1 - {t}_{2}\\right)^{3} + \\left(1 - {t}_{3}\\right)^{3} + \\left(1 - {t}_{4}\\right)^{3}\\right) \\left(\\frac{{t}_{0}^{2}}{25} + \\frac{{t}_{1}^{2}}{25} + \\frac{{t}_{2}^{2}}{25} + \\frac{{t}_{3}^{2}}{25} + \\frac{{t}_{4}^{2}}{25}\\right)$"
          },
          "metadata": {},
          "execution_count": 125
        }
      ]
    },
    {
      "cell_type": "code",
      "source": [
        "# result = minimize(fit, initial,\n",
        "#                   bounds=tuple((0,1) for _ in initial),\n",
        "#                   constraints=({'type': 'eq', 'fun': lambda t:  1 - sum(t)})\n",
        "#                   )\n",
        "\n",
        "# print(result)\n",
        "\n",
        "\n",
        "\n",
        "# print(np.round(result.x).astype(int))\n",
        "\n",
        "# for t2 in [0,1]:\n",
        "#     t0_values = np.linspace(0, 1, 10)\n",
        "#     t1_values = np.linspace(0, 1, 10)\n",
        "#     t0_mesh, t1_mesh = np.meshgrid(t0_values, t1_values)\n",
        "\n",
        "#     z_values = fit([t0_mesh, t1_mesh, t2])\n",
        "#     shape = z_values.shape\n",
        "#     maxi = np.unravel_index(np.argmax(-z_values), shape)\n",
        "#     plt.plot(t0_values[maxi[0]],t1_values[maxi[1]],'o', markersize=20, color='red')\n",
        "#     contour_plot = plt.contour(t0_mesh, t1_mesh, z_values, levels=20, cmap='magma')\n",
        "\n",
        "#     colorbar = plt.colorbar(contour_plot)\n",
        "#     print(t2,np.max(-z_values))\n",
        "\n",
        "#     plt.show()"
      ],
      "metadata": {
        "id": "Wux4-vs9PX26"
      },
      "execution_count": null,
      "outputs": []
    },
    {
      "cell_type": "code",
      "source": [
        "from sympy import print_latex, lambdify\n",
        "from scipy.optimize import minimize\n",
        "import numpy as np\n",
        "import itertools as it\n",
        "import matplotlib.pyplot as plt\n",
        "\n",
        "\n",
        "def fitness(t,a,b):\n",
        "    return sum(ti**a for ti in t)*sum((1-ti)**b for ti in t)/len(t)**2\n",
        "\n",
        "\n",
        "def neg_fitness(t,a,b):\n",
        "    return -fitness(t,a,b)\n",
        "\n",
        "def optimise(n,a,b):\n",
        "\n",
        "    initial = np.ones(n)/n + np.random.normal(0, .1, size=n)\n",
        "\n",
        "    result = minimize(neg_fitness,\n",
        "                      initial,\n",
        "                      bounds = tuple((0,1) for _ in initial),\n",
        "                      constraints = ({'type': 'eq', 'fun': lambda t:  1 - sum(t)}),\n",
        "                      args = (a,b),\n",
        "                      method = 'SLSQP',\n",
        "                      tol=1e-8)\n",
        "\n",
        "    return -result.fun, list(result.x)\n",
        "\n",
        "\n",
        "def brute(n,a,b):\n",
        "\n",
        "    max = 0\n",
        "    allocations = {}\n",
        "    opt_allocation = ()\n",
        "\n",
        "    for ti in list(it.product((0.,1.), repeat=n)):\n",
        "\n",
        "        fit = fitness(ti,a,b)\n",
        "\n",
        "        allocations[ti] = fit\n",
        "\n",
        "        if fit >= max:\n",
        "\n",
        "            max = fit\n",
        "\n",
        "    opt_allocations = [key for key, value in allocations.items() if value == max]\n",
        "\n",
        "    return max, opt_allocations\n",
        "\n",
        "\n",
        "n=4\n",
        "a=2.5\n",
        "b=.3\n",
        "\n",
        "print('DoL', 2/(1/a+1/b)>1)\n",
        "print('optimised', optimise(n,a,b))\n",
        "print('brute forced', brute(n,a,b))\n",
        "\n",
        "fitness([a/(a+b),a/(a+b),a/(a+b),a/(a+b)],a,b)\n",
        "fitness([0.0037329606575269864, 0.991525862451736, 0.0, 0.004741176890736953],a,b)"
      ],
      "metadata": {
        "id": "U4QRh5NbDrUd",
        "outputId": "e73a0095-63ba-4f80-95f3-d33f374f3554",
        "colab": {
          "base_uri": "https://localhost:8080/"
        }
      },
      "execution_count": 10,
      "outputs": [
        {
          "output_type": "stream",
          "name": "stdout",
          "text": [
            "DoL False\n",
            "optimised (0.19802237492132668, [0.9915247019788617, 0.0, 0.0, 0.008475298021138312])\n",
            "brute forced (0.25, [(0.0, 0.0, 1.0, 1.0), (0.0, 1.0, 0.0, 1.0), (0.0, 1.0, 1.0, 0.0), (1.0, 0.0, 0.0, 1.0), (1.0, 0.0, 1.0, 0.0), (1.0, 1.0, 0.0, 0.0)])\n"
          ]
        },
        {
          "output_type": "execute_result",
          "data": {
            "text/plain": [
              "0.19802175170557407"
            ]
          },
          "metadata": {},
          "execution_count": 10
        }
      ]
    }
  ]
}