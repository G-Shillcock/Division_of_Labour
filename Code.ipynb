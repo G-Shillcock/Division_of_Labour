{
  "nbformat": 4,
  "nbformat_minor": 0,
  "metadata": {
    "colab": {
      "provenance": [],
      "include_colab_link": true
    },
    "kernelspec": {
      "name": "python3",
      "display_name": "Python 3"
    },
    "language_info": {
      "name": "python"
    }
  },
  "cells": [
    {
      "cell_type": "markdown",
      "metadata": {
        "id": "view-in-github",
        "colab_type": "text"
      },
      "source": [
        "<a href=\"https://colab.research.google.com/github/G-Shillcock/Division_of_Labour/blob/main/Code.ipynb\" target=\"_parent\"><img src=\"https://colab.research.google.com/assets/colab-badge.svg\" alt=\"Open In Colab\"/></a>"
      ]
    },
    {
      "cell_type": "code",
      "source": [
        "from sympy import symbols, Eq, IndexedBase, Sum, solve\n",
        "\n",
        "#### MODEL PARAMETERS\n",
        "μ = symbols('μ')                            # shareability\n",
        "a, b = symbols('a, b', positive=True)       # task elasticities\n",
        "k = symbols('k', positive=True)             # workaround so that n >=2\n",
        "n = k + 2                                   # group size\n",
        "i, j = symbols('i, j', integer=True)        # group member indices\n",
        "t = IndexedBase('t')                        # allocation to task A\n",
        "t_A = symbols('t_A')                        # optimum undivided allocation\n",
        "A = IndexedBase('A')                        # performances in task A\n",
        "B = IndexedBase('B')                        # performances in task B\n",
        "\n",
        "#### Define fitness\n",
        "\n",
        "W = (1-μ)*Sum(A[i]*B[i]/n,(i,0,n-1)) + μ*Sum(A[i]*B[j]/(n**2),(i,0,n-1),(j,0,n-1))\n",
        "W = W.doit()\n",
        "W = W.replace(A[i], t[i]**a).replace(B[j],(1-t[j])**b).replace(B[i],(1-t[i])**b).doit()\n",
        "display(Eq(symbols('W'),W))\n",
        "\n",
        "#### Find the optimum undivided allocation. This is presumed to be the ancestoral state.\n",
        "\n",
        "W_A = W.replace(t[i],t_A).replace(t[j],t_A).doit()\n",
        "display(Eq(t_A,solve(W_A.diff(t_A),t_A)[0]))\n",
        "\n",
        "#### Find the critical values of the second-derivative at ancestral state, in a direction towards unequal allocation i.e. division of labour.\n",
        "\n",
        "W00 = W.diff(t[0],t[0]).replace(t[i],t_A).replace(t[j],t_A).simplify()\n",
        "W10 = W.diff(t[1],t[0]).replace(t[i],t_A).replace(t[j],t_A).simplify()\n",
        "W01 = W.diff(t[0],t[1]).replace(t[i],t_A).replace(t[j],t_A).simplify()\n",
        "W11 = W.diff(t[1],t[1]).replace(t[i],t_A).replace(t[j],t_A).simplify()\n",
        "\n",
        "concavity = (W00+W11-W01-W10).subs(t_A, a/(a+b)).simplify()\n",
        "sol = solve(concavity,b)[0]\n",
        "display(Eq(b,sol))\n",
        "\n",
        "#### Rearranging gives the formular from the paper.\n",
        "display(Eq(2/(1/a+1/b),(2/(1/sol+1/a)).simplify()))"
      ],
      "metadata": {
        "colab": {
          "base_uri": "https://localhost:8080/",
          "height": 189
        },
        "id": "sgYXpPQtTDOq",
        "outputId": "3c0e8357-16b0-41c1-f66c-61c2543ce2f5"
      },
      "execution_count": 16,
      "outputs": [
        {
          "output_type": "display_data",
          "data": {
            "text/plain": [
              "Eq(W, μ*Sum((1 - t[j])**b*t[i]**a/(k + 2)**2, (i, 0, k + 1), (j, 0, k + 1)) + (1 - μ)*Sum((1 - t[i])**b*t[i]**a/(k + 2), (i, 0, k + 1)))"
            ],
            "text/latex": "$\\displaystyle W = μ \\sum_{\\substack{0 \\leq i \\leq k + 1\\\\0 \\leq j \\leq k + 1}} \\frac{\\left(1 - {t}_{j}\\right)^{b} {t}_{i}^{a}}{\\left(k + 2\\right)^{2}} + \\left(1 - μ\\right) \\sum_{i=0}^{k + 1} \\frac{\\left(1 - {t}_{i}\\right)^{b} {t}_{i}^{a}}{k + 2}$"
          },
          "metadata": {}
        },
        {
          "output_type": "display_data",
          "data": {
            "text/plain": [
              "Eq(t_A, a/(a + b))"
            ],
            "text/latex": "$\\displaystyle t_{A} = \\frac{a}{a + b}$"
          },
          "metadata": {}
        },
        {
          "output_type": "display_data",
          "data": {
            "text/plain": [
              "Eq(b, a/(2*a*μ - 1))"
            ],
            "text/latex": "$\\displaystyle b = \\frac{a}{2 a μ - 1}$"
          },
          "metadata": {}
        },
        {
          "output_type": "display_data",
          "data": {
            "text/plain": [
              "Eq(2/(1/b + 1/a), 1/μ)"
            ],
            "text/latex": "$\\displaystyle \\frac{2}{\\frac{1}{b} + \\frac{1}{a}} = \\frac{1}{μ}$"
          },
          "metadata": {}
        }
      ]
    }
  ]
}