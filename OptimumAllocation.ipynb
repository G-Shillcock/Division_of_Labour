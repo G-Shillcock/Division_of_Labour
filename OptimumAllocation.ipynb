{
  "nbformat": 4,
  "nbformat_minor": 0,
  "metadata": {
    "colab": {
      "provenance": [],
      "authorship_tag": "ABX9TyO5X1MmaKG1O5Qn3+NiTkg6",
      "include_colab_link": true
    },
    "kernelspec": {
      "name": "python3",
      "display_name": "Python 3"
    },
    "language_info": {
      "name": "python"
    }
  },
  "cells": [
    {
      "cell_type": "markdown",
      "metadata": {
        "id": "view-in-github",
        "colab_type": "text"
      },
      "source": [
        "<a href=\"https://colab.research.google.com/github/G-Shillcock/Division_of_Labour/blob/main/OptimumAllocation.ipynb\" target=\"_parent\"><img src=\"https://colab.research.google.com/assets/colab-badge.svg\" alt=\"Open In Colab\"/></a>"
      ]
    },
    {
      "cell_type": "code",
      "execution_count": null,
      "metadata": {
        "id": "RPc6Ec7vfebA"
      },
      "outputs": [],
      "source": [
        "from sympy import print_latex, lambdify\n",
        "from scipy.optimize import minimize\n",
        "import numpy as np\n",
        "import itertools as it\n",
        "import matplotlib.pyplot as plt\n",
        "\n",
        "\n",
        "def fitness(t,a,b):\n",
        "    return sum(ti**a+2 for ti in t)*sum((1-ti)**b for ti in t)/len(t)**2\n",
        "\n",
        "\n",
        "def neg_fitness(t,a,b):\n",
        "    return -fitness(t,a,b)\n",
        "\n",
        "def optimise(n,a,b):\n",
        "\n",
        "    initial = np.ones(n)/n + np.random.normal(0, .1, size=n)\n",
        "\n",
        "    result = minimize(neg_fitness,\n",
        "                      initial,\n",
        "                      bounds = tuple((0,1) for _ in initial),\n",
        "                      constraints = ({'type': 'eq', 'fun': lambda t:  1 - sum(t)}),\n",
        "                      args = (a,b),\n",
        "                      method = 'SLSQP',\n",
        "                      tol=1e-8)\n",
        "\n",
        "    return -result.fun, list(result.x)\n",
        "\n",
        "\n",
        "def brute(n,a,b):\n",
        "\n",
        "    max = 0\n",
        "    allocations = {}\n",
        "    opt_allocation = ()\n",
        "\n",
        "    for ti in list(it.product((0.,1.), repeat=n)):\n",
        "\n",
        "        fit = fitness(ti,a,b)\n",
        "\n",
        "        allocations[ti] = fit\n",
        "\n",
        "        if fit >= max:\n",
        "\n",
        "            max = fit\n",
        "\n",
        "    opt_allocations = [key for key, value in allocations.items() if value == max]\n",
        "\n",
        "    return max, opt_allocations\n",
        "\n",
        "\n",
        "n=4\n",
        "a=2.5\n",
        "b=.3\n",
        "\n",
        "print('DoL', 2/(1/a+1/b)>1)\n",
        "print('optimised', optimise(n,a,b))\n",
        "print('brute forced', brute(n,a,b))\n",
        "\n",
        "fitness([a/(a+b),a/(a+b),a/(a+b),a/(a+b)],a,b)\n",
        "fitness([0.0037329606575269864, 0.991525862451736, 0.0, 0.004741176890736953],a,b)"
      ]
    }
  ]
}