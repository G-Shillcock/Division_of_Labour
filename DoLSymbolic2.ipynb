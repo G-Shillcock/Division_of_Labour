{
  "nbformat": 4,
  "nbformat_minor": 0,
  "metadata": {
    "colab": {
      "provenance": [],
      "include_colab_link": true
    },
    "kernelspec": {
      "name": "python3",
      "display_name": "Python 3"
    },
    "language_info": {
      "name": "python"
    }
  },
  "cells": [
    {
      "cell_type": "markdown",
      "metadata": {
        "id": "view-in-github",
        "colab_type": "text"
      },
      "source": [
        "<a href=\"https://colab.research.google.com/github/G-Shillcock/Division_of_Labour/blob/main/DoLSymbolic2.ipynb\" target=\"_parent\"><img src=\"https://colab.research.google.com/assets/colab-badge.svg\" alt=\"Open In Colab\"/></a>"
      ]
    },
    {
      "cell_type": "code",
      "source": [
        "from sympy import symbols, print_latex, hessian, simplify, solve, det\n",
        "\n",
        "a, b = symbols('a, b')\n",
        "\n",
        "def calc_det_hess(n):\n",
        "\n",
        "    ts = symbols(f't0:{n}')\n",
        "\n",
        "    W = sum(t**a for t in ts)*sum((1-t)**b for t in ts)\n",
        "    # display(W)\n",
        "\n",
        "    H = hessian(W, ts)\n",
        "\n",
        "    tanc =  [a/(a+b) for _ in range(n)]\n",
        "\n",
        "    ancestoral_state = dict(zip(ts,tanc))\n",
        "\n",
        "    Hanc = H.subs(ancestoral_state).applyfunc(simplify)\n",
        "\n",
        "    display(det(Hanc).factor())\n",
        "\n",
        "for n in range(1,5):\n",
        "    calc_det_hess(n)"
      ],
      "metadata": {
        "colab": {
          "base_uri": "https://localhost:8080/",
          "height": 149
        },
        "id": "8bBZOjjyOYeP",
        "outputId": "6d2d1e5f-5844-4ace-b994-55f75cd72c70"
      },
      "execution_count": null,
      "outputs": [
        {
          "output_type": "display_data",
          "data": {
            "text/plain": [
              "-(a/(a + b))**a*(b/(a + b))**b*(a + b)**3/(a*b)"
            ],
            "text/latex": "$\\displaystyle - \\frac{\\left(\\frac{a}{a + b}\\right)^{a} \\left(\\frac{b}{a + b}\\right)^{b} \\left(a + b\\right)^{3}}{a b}$"
          },
          "metadata": {}
        },
        {
          "output_type": "display_data",
          "data": {
            "text/plain": [
              "-4*(a/(a + b))**(2*a)*(b/(a + b))**(2*b)*(a + b)**5*(2*a*b - a - b)/(a**2*b**2)"
            ],
            "text/latex": "$\\displaystyle - \\frac{4 \\left(\\frac{a}{a + b}\\right)^{2 a} \\left(\\frac{b}{a + b}\\right)^{2 b} \\left(a + b\\right)^{5} \\cdot \\left(2 a b - a - b\\right)}{a^{2} b^{2}}$"
          },
          "metadata": {}
        },
        {
          "output_type": "display_data",
          "data": {
            "text/plain": [
              "-27*(a/(a + b))**(3*a)*(b/(a + b))**(3*b)*(a + b)**7*(2*a*b - a - b)**2/(a**3*b**3)"
            ],
            "text/latex": "$\\displaystyle - \\frac{27 \\left(\\frac{a}{a + b}\\right)^{3 a} \\left(\\frac{b}{a + b}\\right)^{3 b} \\left(a + b\\right)^{7} \\left(2 a b - a - b\\right)^{2}}{a^{3} b^{3}}$"
          },
          "metadata": {}
        }
      ]
    }
  ]
}