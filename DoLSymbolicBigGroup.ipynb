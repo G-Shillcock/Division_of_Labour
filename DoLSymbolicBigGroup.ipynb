{
  "nbformat": 4,
  "nbformat_minor": 0,
  "metadata": {
    "colab": {
      "provenance": [],
      "include_colab_link": true
    },
    "kernelspec": {
      "name": "python3",
      "display_name": "Python 3"
    },
    "language_info": {
      "name": "python"
    }
  },
  "cells": [
    {
      "cell_type": "markdown",
      "metadata": {
        "id": "view-in-github",
        "colab_type": "text"
      },
      "source": [
        "<a href=\"https://colab.research.google.com/github/G-Shillcock/Division_of_Labour/blob/main/DoLSymbolicBigGroup.ipynb\" target=\"_parent\"><img src=\"https://colab.research.google.com/assets/colab-badge.svg\" alt=\"Open In Colab\"/></a>"
      ]
    },
    {
      "cell_type": "markdown",
      "source": [
        "This section determines the conditions under which the division of labor is favored, taking into account task difficulties, group size, and assortativity.\n",
        "\n",
        "\\begin{align*}\n",
        "W &= (1-λ)\\left(\\sum_i^n A_iB_i\\right) + λ \\left(\\sum_{i\\neq j}A_iB_j\\right)\\\\\n",
        "&=(1-2λ)\\left(\\sum_i^n A_iB_i\\right) + λ \\left(\\sum_{i}A_i\\right)\\left(\\sum_j B_j\\right)\\\\\n",
        "A_i &= (t_i)^a\\\\\n",
        "B_i &= (1-t_i)^b\n",
        "\\end{align*}"
      ],
      "metadata": {
        "id": "c7QpWZ1XheR3"
      }
    },
    {
      "cell_type": "code",
      "source": [
        "from sympy import symbols, Eq, IndexedBase, Sum, solve, KroneckerDelta\n",
        "\n",
        "t_A = symbols('t_{A}')                      # undivided ancestoral allocation\n",
        "i, j = symbols('i, j', integer=True)        # group member indices\n",
        "λ = symbols('λ')                            # shareability\n",
        "a, b = symbols('a, b', positive=True)       # task elasticities\n",
        "c = symbols('c', positive=True)             # workaround so that n >=2\n",
        "n = c + 2                                   # group size\n",
        "\n",
        "t = IndexedBase('t')                        # allocations\n",
        "A = IndexedBase('A')                        # performances in task A\n",
        "B = IndexedBase('B')                        # performances in task B\n",
        "\n",
        "W = (Sum(λ*A[i]*B[j],(i,0,n-1),(j,0,n-1)) + Sum((1-2*λ)*A[i]*B[i],(i,0,n-1))).doit()\n",
        "\n",
        "# W = (Sum(λ*A[i]*B[j]/(n**2),(i,0,n-1),(j,0,n-1)) + Sum((1-2*λ)*A[i]*B[i]/n,(i,0,n-1))).doit()\n",
        "# equivalent to n=1 case.\n",
        "\n",
        "# W = W /( n*(λ*(n-2)+1) )\n",
        "# has no effect\n",
        "\n",
        "display(W)\n",
        "\n",
        "W = W.replace(A[i], t[i]**a).replace(B[j],(1-t[j])**b).replace(B[i],(1-t[i])**b).doit()\n",
        "\n",
        "W_A = W.replace(t[i],t_A).replace(t[j],t_A).doit()\n",
        "\n",
        "display(Eq(t_A,solve(W_A.diff(t_A),t_A)[0]))"
      ],
      "metadata": {
        "colab": {
          "base_uri": "https://localhost:8080/",
          "height": 113
        },
        "id": "sgYXpPQtTDOq",
        "outputId": "ae21655f-2cac-460b-9cd1-43f28b0da619"
      },
      "execution_count": 6,
      "outputs": [
        {
          "output_type": "display_data",
          "data": {
            "text/plain": [
              "Sum((1 - 2*λ)*A[i]*B[i]/(c + 2), (i, 0, c + 1)) + Sum(λ*A[i]*B[j]/(c + 2)**2, (i, 0, c + 1), (j, 0, c + 1))"
            ],
            "text/latex": "$\\displaystyle \\sum_{i=0}^{c + 1} \\frac{\\left(1 - 2 λ\\right) {A}_{i} {B}_{i}}{c + 2} + \\sum_{\\substack{0 \\leq i \\leq c + 1\\\\0 \\leq j \\leq c + 1}} \\frac{λ {A}_{i} {B}_{j}}{\\left(c + 2\\right)^{2}}$"
          },
          "metadata": {}
        },
        {
          "output_type": "display_data",
          "data": {
            "text/plain": [
              "Eq(t_{A}, a/(a + b))"
            ],
            "text/latex": "$\\displaystyle t_{A} = \\frac{a}{a + b}$"
          },
          "metadata": {}
        }
      ]
    },
    {
      "cell_type": "markdown",
      "source": [
        "The allocation of the undivided ancestoral population is equal to the relative elasticity of the tasks. We can use this value to find when division of labour yeilds a fitness advantage."
      ],
      "metadata": {
        "id": "I2Hscc6hZ5QH"
      }
    },
    {
      "cell_type": "code",
      "source": [
        "W00 = W.diff(t[0],t[0]).replace(t[i],t_A).replace(t[j],t_A).simplify()\n",
        "W10 = W.diff(t[1],t[0]).replace(t[i],t_A).replace(t[j],t_A).simplify()\n",
        "W01 = W.diff(t[0],t[1]).replace(t[i],t_A).replace(t[j],t_A).simplify()\n",
        "W11 = W.diff(t[1],t[1]).replace(t[i],t_A).replace(t[j],t_A).simplify()\n",
        "\n",
        "concavity = (W00+W11-W01-W10).subs(t_A, a/(a+b)).simplify()\n",
        "\n",
        "sol = solve(concavity,b)[0]\n",
        "\n",
        "display(Eq(b,sol))"
      ],
      "metadata": {
        "colab": {
          "base_uri": "https://localhost:8080/",
          "height": 54
        },
        "id": "fAEj3OjFW74t",
        "outputId": "f13310c5-6ec1-4ba3-af7a-2419d290e6f4"
      },
      "execution_count": 7,
      "outputs": [
        {
          "output_type": "display_data",
          "data": {
            "text/plain": [
              "Eq(b, a*(1 - λ)/(2*a*λ + λ - 1))"
            ],
            "text/latex": "$\\displaystyle b = \\frac{a \\left(1 - λ\\right)}{2 a λ + λ - 1}$"
          },
          "metadata": {}
        }
      ]
    },
    {
      "cell_type": "markdown",
      "source": [
        "This can be rearranged to seperate parameters relating to the tasks from parameters related to the group's structure. Recall that $c = n + 2$."
      ],
      "metadata": {
        "id": "3A8ljbgVo5cD"
      }
    },
    {
      "cell_type": "code",
      "source": [
        "display(Eq(1/a+1/b,(1/sol+1/a).simplify()))"
      ],
      "metadata": {
        "colab": {
          "base_uri": "https://localhost:8080/",
          "height": 53
        },
        "id": "x9pG-7kpl21E",
        "outputId": "df8cbfb3-bdd4-4774-88ec-8a889c86e86a"
      },
      "execution_count": 8,
      "outputs": [
        {
          "output_type": "display_data",
          "data": {
            "text/plain": [
              "Eq(1/b + 1/a, -2*λ/(λ - 1))"
            ],
            "text/latex": "$\\displaystyle \\frac{1}{b} + \\frac{1}{a} = - \\frac{2 λ}{λ - 1}$"
          },
          "metadata": {}
        }
      ]
    },
    {
      "cell_type": "markdown",
      "source": [
        "Lets now double check that division of labour is only possible when intermediate resources are shared."
      ],
      "metadata": {
        "id": "6DBjNRR8IUDK"
      }
    },
    {
      "cell_type": "code",
      "source": [
        "W_c= W.subs(λ,0).doit()\n",
        "\n",
        "W00 = W_c.diff(t[0],t[0]).replace(t[i],t_A).replace(t[j],t_A).simplify()\n",
        "W10 = W_c.diff(t[1],t[0]).replace(t[i],t_A).replace(t[j],t_A).simplify()\n",
        "W01 = W_c.diff(t[0],t[1]).replace(t[i],t_A).replace(t[j],t_A).simplify()\n",
        "W11 = W_c.diff(t[1],t[1]).replace(t[i],t_A).replace(t[j],t_A).simplify()\n",
        "\n",
        "concavity = (W00+W11-W01-W10).subs(t_A, a/(a+b)).simplify()\n",
        "\n",
        "sol = solve(concavity,b)\n",
        "\n",
        "sol # the solver returns no solution because the concavity is never zero."
      ],
      "metadata": {
        "colab": {
          "base_uri": "https://localhost:8080/"
        },
        "id": "9P-JogDoHfiQ",
        "outputId": "29a8dc4d-cdbc-44bc-caab-4a0f8e15ce07"
      },
      "execution_count": 14,
      "outputs": [
        {
          "output_type": "execute_result",
          "data": {
            "text/plain": [
              "[]"
            ]
          },
          "metadata": {},
          "execution_count": 14
        }
      ]
    }
  ]
}