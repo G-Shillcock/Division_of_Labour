{
  "nbformat": 4,
  "nbformat_minor": 0,
  "metadata": {
    "colab": {
      "provenance": [],
      "authorship_tag": "ABX9TyOVWoXZeQLYib6HLEKwt0Y0",
      "include_colab_link": true
    },
    "kernelspec": {
      "name": "python3",
      "display_name": "Python 3"
    },
    "language_info": {
      "name": "python"
    }
  },
  "cells": [
    {
      "cell_type": "markdown",
      "metadata": {
        "id": "view-in-github",
        "colab_type": "text"
      },
      "source": [
        "<a href=\"https://colab.research.google.com/github/G-Shillcock/Division_of_Labour/blob/main/DoLSymbolicBigGroup.ipynb\" target=\"_parent\"><img src=\"https://colab.research.google.com/assets/colab-badge.svg\" alt=\"Open In Colab\"/></a>"
      ]
    },
    {
      "cell_type": "markdown",
      "source": [
        "This section determines the conditions under which the division of labor is favored, taking into account task difficulties, group size, and assortativity.\n",
        "\n",
        "\\begin{align*}\n",
        "W &= (1-λ)\\left(\\sum_i^n A_iB_i\\right) + λ \\left(\\sum_{i\\neq j}A_iB_j\\right)\\\\\n",
        "&=(1-2λ)\\left(\\sum_i^n A_iB_i\\right) + λ \\left(\\sum_{i}A_i\\right)\\left(\\sum_j B_j\\right)\\\\\n",
        "A_i &= (t_i)^a\\\\\n",
        "B_i &= (1-t_i)^b\n",
        "\\end{align*}"
      ],
      "metadata": {
        "id": "c7QpWZ1XheR3"
      }
    },
    {
      "cell_type": "code",
      "source": [
        "from sympy import symbols, Eq, IndexedBase, Sum, solve, KroneckerDelta\n",
        "\n",
        "t_A = symbols('t_{A}')                      # undivided ancestoral allocation\n",
        "i, j = symbols('i, j', integer=True)        # group member indices\n",
        "λ = symbols('λ')                            # shareability\n",
        "a, b = symbols('a, b', positive=True)       # task elasticities\n",
        "c = symbols('c', positive=True)             # workaround so that n >=2\n",
        "n = c + 2                                   # group size\n",
        "\n",
        "t = IndexedBase('t')                        # allocations\n",
        "A = IndexedBase('A')                        # performances in task A\n",
        "B = IndexedBase('B')                        # performances in task B\n",
        "\n",
        "W = (Sum(λ*A[i]*B[j],(i,0,n-1),(j,0,n-1)) + Sum((1-2*λ)*A[i]*B[i],(i,0,n-1))).doit()\n",
        "\n",
        "W = W.replace(A[i], t[i]**a).replace(B[j],(1-t[j])**b).replace(B[i],(1-t[i])**b).doit()\n",
        "\n",
        "W_A = W.replace(t[i],t_A).replace(t[j],t_A).doit()\n",
        "\n",
        "display(Eq(t_A,solve(W_A.diff(t_A),t_A)[0]))"
      ],
      "metadata": {
        "colab": {
          "base_uri": "https://localhost:8080/",
          "height": 49
        },
        "id": "sgYXpPQtTDOq",
        "outputId": "88d42fb7-5f38-410e-c850-5a6a8669bfaa"
      },
      "execution_count": 14,
      "outputs": [
        {
          "output_type": "display_data",
          "data": {
            "text/plain": [
              "Eq(t_{A}, a/(a + b))"
            ],
            "text/latex": "$\\displaystyle t_{A} = \\frac{a}{a + b}$"
          },
          "metadata": {}
        }
      ]
    },
    {
      "cell_type": "markdown",
      "source": [
        "The allocation of the undivided ancestoral population is equal to the relative elasticity of the tasks. We can use this value to find when division of labour yeilds a fitness advantage."
      ],
      "metadata": {
        "id": "I2Hscc6hZ5QH"
      }
    },
    {
      "cell_type": "code",
      "source": [
        "W00 = W.diff(t[0],t[0]).replace(t[i],t_A).replace(t[j],t_A).simplify()\n",
        "W10 = W.diff(t[1],t[0]).replace(t[i],t_A).replace(t[j],t_A).simplify()\n",
        "W01 = W.diff(t[0],t[1]).replace(t[i],t_A).replace(t[j],t_A).simplify()\n",
        "W11 = W.diff(t[1],t[1]).replace(t[i],t_A).replace(t[j],t_A).simplify()\n",
        "\n",
        "concavity = (W00+W11-W01-W10).subs(t_A, a/(a+b)).simplify()\n",
        "\n",
        "sol = solve(concavity,b)[0]\n",
        "\n",
        "display(Eq(b,sol))"
      ],
      "metadata": {
        "colab": {
          "base_uri": "https://localhost:8080/",
          "height": 54
        },
        "id": "fAEj3OjFW74t",
        "outputId": "8f9431fa-d483-40a1-8843-8890d6bebc51"
      },
      "execution_count": 26,
      "outputs": [
        {
          "output_type": "display_data",
          "data": {
            "text/plain": [
              "Eq(b, a*(c*λ + 1)/(2*a*c*λ + 4*a*λ - c*λ - 1))"
            ],
            "text/latex": "$\\displaystyle b = \\frac{a \\left(c λ + 1\\right)}{2 a c λ + 4 a λ - c λ - 1}$"
          },
          "metadata": {}
        }
      ]
    },
    {
      "cell_type": "markdown",
      "source": [
        "This can be rearranged to seperate parameters relating to the tasks from parameters related to the group's structure. Recall that $c = n + 2$."
      ],
      "metadata": {
        "id": "3A8ljbgVo5cD"
      }
    },
    {
      "cell_type": "code",
      "source": [
        "display(Eq(1/a+1/b,(1/sol+1/a).simplify()))"
      ],
      "metadata": {
        "colab": {
          "base_uri": "https://localhost:8080/",
          "height": 54
        },
        "id": "x9pG-7kpl21E",
        "outputId": "724f7a75-cb88-465c-ac27-672cf137b669"
      },
      "execution_count": 31,
      "outputs": [
        {
          "output_type": "display_data",
          "data": {
            "text/plain": [
              "Eq(1/b + 1/a, 2*λ*(c + 2)/(c*λ + 1))"
            ],
            "text/latex": "$\\displaystyle \\frac{1}{b} + \\frac{1}{a} = \\frac{2 λ \\left(c + 2\\right)}{c λ + 1}$"
          },
          "metadata": {}
        }
      ]
    }
  ]
}