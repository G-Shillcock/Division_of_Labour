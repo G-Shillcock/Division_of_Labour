{
  "nbformat": 4,
  "nbformat_minor": 0,
  "metadata": {
    "colab": {
      "provenance": [],
      "authorship_tag": "ABX9TyMx50cw1qa+2XRJ2AOpqtjz",
      "include_colab_link": true
    },
    "kernelspec": {
      "name": "python3",
      "display_name": "Python 3"
    },
    "language_info": {
      "name": "python"
    }
  },
  "cells": [
    {
      "cell_type": "markdown",
      "metadata": {
        "id": "view-in-github",
        "colab_type": "text"
      },
      "source": [
        "<a href=\"https://colab.research.google.com/github/G-Shillcock/Division_of_Labour/blob/main/DoLSymbolicBigGroup.ipynb\" target=\"_parent\"><img src=\"https://colab.research.google.com/assets/colab-badge.svg\" alt=\"Open In Colab\"/></a>"
      ]
    },
    {
      "cell_type": "markdown",
      "source": [
        "This section determines the conditions under which the division of labor is favored, taking into account task difficulties, group size, and assortativity.\n",
        "\n",
        "\\begin{align*}\n",
        "W &= (1-λ)\\left(\\sum_i^n A_iB_i\\right) + λ \\left(\\sum_{i\\neq j}A_iB_j\\right)\\\\\n",
        "A_i &= (t_i)^a\\\\\n",
        "B_i &= (1-t_i)^b\n",
        "\\end{align*}"
      ],
      "metadata": {
        "id": "c7QpWZ1XheR3"
      }
    },
    {
      "cell_type": "code",
      "source": [
        "from sympy import symbols, Eq, IndexedBase, Sum, solve, KroneckerDelta\n",
        "\n",
        "λ = symbols('λ')\n",
        "a, b = symbols('a, b', positive=True)\n",
        "i, j = symbols('i, j', integer=True)\n",
        "c = symbols('c', positive=True)\n",
        "n = c + 2 # workaround so that n >=2\n",
        "t_A = symbols('t_{A}') # undivided ancestoral time allocation\n",
        "\n",
        "t = IndexedBase('t')\n",
        "A = IndexedBase('A')\n",
        "B = IndexedBase('B')\n",
        "\n",
        "W = (Sum(λ*A[i]*B[j],(i,0,n-1),(j,0,n-1)) + Sum((1-2*λ)*A[i]*B[i],(i,0,n-1))).doit()\n",
        "\n",
        "Wsub = W.replace(A[i], t[i]**a).replace(B[j],(1-t[j])**b).replace(B[i],(1-t[i])**b).doit()\n",
        "\n",
        "W00 = Wsub.diff(t[0],t[0]).replace(t[i],t_A).replace(t[j],t_A).simplify()\n",
        "W10 = Wsub.diff(t[1],t[0]).replace(t[i],t_A).replace(t[j],t_A).simplify()\n",
        "W01 = Wsub.diff(t[0],t[1]).replace(t[i],t_A).replace(t[j],t_A).simplify()\n",
        "W11 = Wsub.diff(t[1],t[1]).replace(t[i],t_A).replace(t[j],t_A).simplify()\n",
        "\n",
        "concavity = (W00+W11-W01-W10).subs(t_A, a/(a+b)).simplify()\n",
        "\n",
        "display(Eq(b,solve(concavity,b)[0]))"
      ],
      "metadata": {
        "colab": {
          "base_uri": "https://localhost:8080/",
          "height": 54
        },
        "id": "sgYXpPQtTDOq",
        "outputId": "f1dd6c0e-31ed-4d89-be5a-a6cb22132dad"
      },
      "execution_count": 1,
      "outputs": [
        {
          "output_type": "display_data",
          "data": {
            "text/plain": [
              "Eq(b, a*(c*λ + 1)/(2*a*c*λ + 4*a*λ - c*λ - 1))"
            ],
            "text/latex": "$\\displaystyle b = \\frac{a \\left(c λ + 1\\right)}{2 a c λ + 4 a λ - c λ - 1}$"
          },
          "metadata": {}
        }
      ]
    },
    {
      "cell_type": "code",
      "source": [
        "import sympy\n",
        "\n",
        "sympy.print_latex(Eq(b,solve(concavity,b)[0]))\n",
        "\n",
        "sol = solve(concavity,b)[0]\n",
        "display(sp.limit(sol,c,sp.oo).simplify())\n",
        "\n",
        "sol.subs(λ,.5).simplify()"
      ],
      "metadata": {
        "colab": {
          "base_uri": "https://localhost:8080/",
          "height": 102
        },
        "id": "m-KEKLWqhWts",
        "outputId": "f57ea59f-383c-4148-ad2d-934580e279af"
      },
      "execution_count": 4,
      "outputs": [
        {
          "output_type": "stream",
          "name": "stdout",
          "text": [
            "b = \\frac{a \\left(c λ + 1\\right)}{2 a c λ + 4 a λ - c λ - 1}\n"
          ]
        },
        {
          "output_type": "display_data",
          "data": {
            "text/plain": [
              "a/(2*a - 1)"
            ],
            "text/latex": "$\\displaystyle \\frac{a}{2 a - 1}$"
          },
          "metadata": {}
        },
        {
          "output_type": "execute_result",
          "data": {
            "text/plain": [
              "0.5*a/(1.0*a - 0.5)"
            ],
            "text/latex": "$\\displaystyle \\frac{0.5 a}{1.0 a - 0.5}$"
          },
          "metadata": {},
          "execution_count": 4
        }
      ]
    }
  ]
}