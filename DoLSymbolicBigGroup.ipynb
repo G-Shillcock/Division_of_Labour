{
  "nbformat": 4,
  "nbformat_minor": 0,
  "metadata": {
    "colab": {
      "provenance": [],
      "include_colab_link": true
    },
    "kernelspec": {
      "name": "python3",
      "display_name": "Python 3"
    },
    "language_info": {
      "name": "python"
    }
  },
  "cells": [
    {
      "cell_type": "markdown",
      "metadata": {
        "id": "view-in-github",
        "colab_type": "text"
      },
      "source": [
        "<a href=\"https://colab.research.google.com/github/G-Shillcock/Division_of_Labour/blob/main/DoLSymbolicBigGroup.ipynb\" target=\"_parent\"><img src=\"https://colab.research.google.com/assets/colab-badge.svg\" alt=\"Open In Colab\"/></a>"
      ]
    },
    {
      "cell_type": "markdown",
      "source": [
        "This section determines the conditions under which the division of labor is favored, taking into account task difficulties, group size, and assortativity.\n",
        "\n",
        "\\begin{align*}\n",
        "W &= (1-λ)\\left(\\sum_i^n A_iB_i\\right) + λ \\left(\\sum_{i\\neq j}A_iB_j\\right)\\\\\n",
        "&=(1-2λ)\\left(\\sum_i^n A_iB_i\\right) + λ \\left(\\sum_{i}A_i\\right)\\left(\\sum_j B_j\\right)\\\\\n",
        "A_i &= (t_i)^a\\\\\n",
        "B_i &= (1-t_i)^b\n",
        "\\end{align*}"
      ],
      "metadata": {
        "id": "c7QpWZ1XheR3"
      }
    },
    {
      "cell_type": "code",
      "source": [
        "from sympy import symbols, Eq, IndexedBase, Sum, solve, KroneckerDelta\n",
        "\n",
        "t_A = symbols('t_A')                      # undivided ancestoral allocation\n",
        "i, j = symbols('i, j', integer=True)        # group member indices\n",
        "λ = symbols('λ')                            # shareability\n",
        "a, b = symbols('a, b', positive=True)       # task elasticities\n",
        "c = symbols('c', positive=True)             # workaround so that n >=2\n",
        "n = c + 2                                   # group size\n",
        "\n",
        "t = IndexedBase('t')                        # allocations\n",
        "A = IndexedBase('A')                        # performances in task A\n",
        "B = IndexedBase('B')                        # performances in task B\n",
        "\n",
        "W = (Sum(λ*A[i]*B[j],(i,0,n-1),(j,0,n-1)) + Sum((1-2*λ)*A[i]*B[i],(i,0,n-1))).doit()\n",
        "\n",
        "# W = (Sum(λ*A[i]*B[j]/(n**2),(i,0,n-1),(j,0,n-1)) + Sum((1-2*λ)*A[i]*B[i]/n,(i,0,n-1))).doit()\n",
        "# equivalent to n=1 case.\n",
        "\n",
        "# W = W /( n*(λ*(n-2)+1) )\n",
        "# has no effect\n",
        "\n",
        "W = W.replace(A[i], t[i]**a).replace(B[j],(1-t[j])**b).replace(B[i],(1-t[i])**b).doit()\n",
        "\n",
        "W_A = W.replace(t[i],t_A).replace(t[j],t_A).doit()\n",
        "\n",
        "display(Eq(t_A,solve(W_A.diff(t_A),t_A)[0]))"
      ],
      "metadata": {
        "colab": {
          "base_uri": "https://localhost:8080/",
          "height": 113
        },
        "id": "sgYXpPQtTDOq",
        "outputId": "4136a3d5-44cf-4b70-ecd6-73d1bc11da03"
      },
      "execution_count": 5,
      "outputs": [
        {
          "output_type": "display_data",
          "data": {
            "text/plain": [
              "Sum((1 - 2*λ)*A[i]*B[i], (i, 0, c + 1)) + Sum(λ*A[i]*B[j], (i, 0, c + 1), (j, 0, c + 1))"
            ],
            "text/latex": "$\\displaystyle \\sum_{i=0}^{c + 1} \\left(1 - 2 λ\\right) {A}_{i} {B}_{i} + \\sum_{\\substack{0 \\leq i \\leq c + 1\\\\0 \\leq j \\leq c + 1}} λ {A}_{i} {B}_{j}$"
          },
          "metadata": {}
        },
        {
          "output_type": "display_data",
          "data": {
            "text/plain": [
              "Eq(t_A, a/(a + b))"
            ],
            "text/latex": "$\\displaystyle t_{A} = \\frac{a}{a + b}$"
          },
          "metadata": {}
        }
      ]
    },
    {
      "cell_type": "markdown",
      "source": [
        "The allocation of the undivided ancestoral population is equal to the relative elasticity of the tasks. We can use this value to find when division of labour yeilds a fitness advantage."
      ],
      "metadata": {
        "id": "I2Hscc6hZ5QH"
      }
    },
    {
      "cell_type": "code",
      "source": [
        "W00 = W.diff(t[0],t[0]).replace(t[i],t_A).replace(t[j],t_A).simplify()\n",
        "W10 = W.diff(t[1],t[0]).replace(t[i],t_A).replace(t[j],t_A).simplify()\n",
        "W01 = W.diff(t[0],t[1]).replace(t[i],t_A).replace(t[j],t_A).simplify()\n",
        "W11 = W.diff(t[1],t[1]).replace(t[i],t_A).replace(t[j],t_A).simplify()\n",
        "\n",
        "concavity = (W00+W11-W01-W10).subs(t_A, a/(a+b)).simplify()\n",
        "\n",
        "sol = solve(concavity,b)[0]\n",
        "\n",
        "display(Eq(b,sol))"
      ],
      "metadata": {
        "colab": {
          "base_uri": "https://localhost:8080/",
          "height": 54
        },
        "id": "fAEj3OjFW74t",
        "outputId": "d5dc0f36-8d7f-49aa-8f28-fe78a0fed85b"
      },
      "execution_count": 6,
      "outputs": [
        {
          "output_type": "display_data",
          "data": {
            "text/plain": [
              "Eq(b, a*(c*λ + 1)/(2*a*c*λ + 4*a*λ - c*λ - 1))"
            ],
            "text/latex": "$\\displaystyle b = \\frac{a \\left(c λ + 1\\right)}{2 a c λ + 4 a λ - c λ - 1}$"
          },
          "metadata": {}
        }
      ]
    },
    {
      "cell_type": "markdown",
      "source": [
        "This can be rearranged to seperate parameters relating to the tasks from parameters related to the group's structure. Recall that $c = n + 2$."
      ],
      "metadata": {
        "id": "3A8ljbgVo5cD"
      }
    },
    {
      "cell_type": "code",
      "source": [
        "display(Eq(1/a+1/b,(1/sol+1/a).simplify()))"
      ],
      "metadata": {
        "colab": {
          "base_uri": "https://localhost:8080/",
          "height": 54
        },
        "id": "x9pG-7kpl21E",
        "outputId": "371e6e63-7d52-4bcd-8aa2-2da111e022e3"
      },
      "execution_count": 7,
      "outputs": [
        {
          "output_type": "display_data",
          "data": {
            "text/plain": [
              "Eq(1/b + 1/a, 2*λ*(c + 2)/(c*λ + 1))"
            ],
            "text/latex": "$\\displaystyle \\frac{1}{b} + \\frac{1}{a} = \\frac{2 λ \\left(c + 2\\right)}{c λ + 1}$"
          },
          "metadata": {}
        }
      ]
    },
    {
      "cell_type": "markdown",
      "source": [
        "---\n",
        "\\\n",
        "Lets now double check that division of labour is only possible when intermediate resources are shared."
      ],
      "metadata": {
        "id": "6DBjNRR8IUDK"
      }
    },
    {
      "cell_type": "code",
      "source": [
        "W_c= W.subs(λ,0).doit()\n",
        "\n",
        "W00 = W_c.diff(t[0],t[0]).replace(t[i],t_A).replace(t[j],t_A).simplify()\n",
        "W10 = W_c.diff(t[1],t[0]).replace(t[i],t_A).replace(t[j],t_A).simplify()\n",
        "W01 = W_c.diff(t[0],t[1]).replace(t[i],t_A).replace(t[j],t_A).simplify()\n",
        "W11 = W_c.diff(t[1],t[1]).replace(t[i],t_A).replace(t[j],t_A).simplify()\n",
        "\n",
        "concavity = (W00+W11-W01-W10).subs(t_A, a/(a+b)).simplify()\n",
        "\n",
        "solve(concavity,b)\n",
        "# the solver returns no solution because the concavity is never zero."
      ],
      "metadata": {
        "colab": {
          "base_uri": "https://localhost:8080/"
        },
        "id": "9P-JogDoHfiQ",
        "outputId": "9440d4a1-e307-4567-b1ab-f50eb487ba09"
      },
      "execution_count": 15,
      "outputs": [
        {
          "output_type": "execute_result",
          "data": {
            "text/plain": [
              "[]"
            ]
          },
          "metadata": {},
          "execution_count": 15
        }
      ]
    },
    {
      "cell_type": "markdown",
      "source": [
        "If we consider the case $\\lambda=1/2$ and add Cobb parameters instead."
      ],
      "metadata": {
        "id": "572VHV-dBYs7"
      }
    },
    {
      "cell_type": "code",
      "source": [
        "α, β = symbols('α, β', positive=True)\n",
        "d = symbols('d', positive=True)\n",
        "\n",
        "W_t = (Sum(A[i],(i,0,n-1))**α*Sum(B[i],(i,0,n-1))**β).doit()\n",
        "\n",
        "W_t = W_t.replace(A[i], t[i]**a).replace(B[i],(1-t[i])**b).doit()\n",
        "\n",
        "W_tA = W_t.replace(t[i],t_A).doit()\n",
        "display(Eq(t_A,solve(W_tA.diff(t_A),t_A)[0]))\n",
        "\n",
        "W00 = W_t.diff(t[0],t[0]).replace(t[i],t_A).simplify()\n",
        "W10 = W_t.diff(t[1],t[0]).replace(t[i],t_A).simplify()\n",
        "W01 = W_t.diff(t[0],t[1]).replace(t[i],t_A).simplify()\n",
        "W11 = W_t.diff(t[1],t[1]).replace(t[i],t_A).simplify()\n",
        "\n",
        "concavity = (W00+W11-W01-W10).subs(t_A, a*α/(a*α+b*β)).simplify()\n",
        "\n",
        "# display(solve(concavity,b)[0])\n",
        "\n",
        "solve(concavity,b)[0].replace(β,(1-d)).replace(α,d).simplify()"
      ],
      "metadata": {
        "id": "q09NK0Dhl42F",
        "outputId": "f3de6537-692c-4561-8b18-3e6cda217206",
        "colab": {
          "base_uri": "https://localhost:8080/",
          "height": 87
        }
      },
      "execution_count": 42,
      "outputs": [
        {
          "output_type": "display_data",
          "data": {
            "text/plain": [
              "Eq(t_A, a*α/(a*α + b*β))"
            ],
            "text/latex": "$\\displaystyle t_{A} = \\frac{a α}{a α + b β}$"
          },
          "metadata": {}
        },
        {
          "output_type": "execute_result",
          "data": {
            "text/plain": [
              "a*d/(a + d - 1)"
            ],
            "text/latex": "$\\displaystyle \\frac{a d}{a + d - 1}$"
          },
          "metadata": {},
          "execution_count": 42
        }
      ]
    }
  ]
}