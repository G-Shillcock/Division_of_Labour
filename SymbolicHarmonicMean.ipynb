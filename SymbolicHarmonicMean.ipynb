{
  "nbformat": 4,
  "nbformat_minor": 0,
  "metadata": {
    "colab": {
      "provenance": [],
      "include_colab_link": true
    },
    "kernelspec": {
      "name": "python3",
      "display_name": "Python 3"
    },
    "language_info": {
      "name": "python"
    }
  },
  "cells": [
    {
      "cell_type": "markdown",
      "metadata": {
        "id": "view-in-github",
        "colab_type": "text"
      },
      "source": [
        "<a href=\"https://colab.research.google.com/github/G-Shillcock/Division_of_Labour/blob/main/Code.ipynb\" target=\"_parent\"><img src=\"https://colab.research.google.com/assets/colab-badge.svg\" alt=\"Open In Colab\"/></a>"
      ]
    },
    {
      "cell_type": "markdown",
      "source": [
        "Define model parameters\n"
      ],
      "metadata": {
        "id": "7B9c5VO5hqoU"
      }
    },
    {
      "cell_type": "code",
      "source": [
        "from sympy import symbols, Eq, IndexedBase, Sum, solve\n",
        "\n",
        "μ = symbols('μ')                            # shareability\n",
        "a, b = symbols('a, b', positive=True)       # task elasticities\n",
        "k = symbols('k', positive=True)             # workaround so that n >=2\n",
        "n = k + 2                                   # group size\n",
        "i, j = symbols('i, j', integer=True)        # group member indices\n",
        "t = IndexedBase('t')                        # allocation to task A\n",
        "t_A = symbols('t_A')                        # optimum undivided allocation\n",
        "A = IndexedBase('A')                        # performances in task A\n",
        "B = IndexedBase('B')                        # performances in task B"
      ],
      "metadata": {
        "id": "sgYXpPQtTDOq"
      },
      "execution_count": 1,
      "outputs": []
    },
    {
      "cell_type": "markdown",
      "source": [
        "Define group productivity"
      ],
      "metadata": {
        "id": "9VnlN60_iexa"
      }
    },
    {
      "cell_type": "code",
      "source": [
        "W = (1-μ)*Sum(A[i]*B[i]/n,(i,0,n-1)) + μ*Sum(A[i]*B[j]/(n**2),(i,0,n-1),(j,0,n-1))\n",
        "W = W.subs(μ,1)\n",
        "W = W.doit()\n",
        "W = W.replace(A[i], t[i]**a).replace(B[j],(1-t[j])**b).replace(B[i],(1-t[i])**b).doit()\n",
        "\n",
        "display(Eq(symbols('W'), W))"
      ],
      "metadata": {
        "id": "ZG4a4prxieRL",
        "outputId": "07ea9688-4a2a-4290-bf8e-287ea981baf3",
        "colab": {
          "base_uri": "https://localhost:8080/",
          "height": 80
        }
      },
      "execution_count": 2,
      "outputs": [
        {
          "output_type": "display_data",
          "data": {
            "text/plain": [
              "Eq(W, Sum((1 - t[j])**b*t[i]**a/(k + 2)**2, (i, 0, k + 1), (j, 0, k + 1)))"
            ],
            "text/latex": "$\\displaystyle W = \\sum_{\\substack{0 \\leq i \\leq k + 1\\\\0 \\leq j \\leq k + 1}} \\frac{\\left(1 - {t}_{j}\\right)^{b} {t}_{i}^{a}}{\\left(k + 2\\right)^{2}}$"
          },
          "metadata": {}
        }
      ]
    },
    {
      "cell_type": "markdown",
      "source": [
        "Find the optimum undivided allocation. This is presumed to be the ancestoral state."
      ],
      "metadata": {
        "id": "04GUlKDDhuIz"
      }
    },
    {
      "cell_type": "code",
      "source": [
        "W_A = W.replace(t[i],t_A).replace(t[j],t_A).doit()\n",
        "display(Eq(t_A,solve(W_A.diff(t_A),t_A)[0]))"
      ],
      "metadata": {
        "id": "kpDhAQ2417Bb",
        "outputId": "252c93df-ee46-418e-96ad-4ccd211c1d49",
        "colab": {
          "base_uri": "https://localhost:8080/",
          "height": 49
        }
      },
      "execution_count": 6,
      "outputs": [
        {
          "output_type": "display_data",
          "data": {
            "text/plain": [
              "Eq(t_A, a/(a + b))"
            ],
            "text/latex": "$\\displaystyle t_{A} = \\frac{a}{a + b}$"
          },
          "metadata": {}
        }
      ]
    },
    {
      "cell_type": "markdown",
      "source": [
        "Find the critical value of the second-derivative at the ancestral state, in a direction towards unequal allocation i.e. division of labour."
      ],
      "metadata": {
        "id": "68q9Ed4shxY-"
      }
    },
    {
      "cell_type": "code",
      "source": [
        "W00 = W.diff(t[0],t[0]).replace(t[i],t_A).replace(t[j],t_A).simplify()\n",
        "W10 = W.diff(t[1],t[0]).replace(t[i],t_A).replace(t[j],t_A).simplify()\n",
        "W01 = W.diff(t[0],t[1]).replace(t[i],t_A).replace(t[j],t_A).simplify()\n",
        "W11 = W.diff(t[1],t[1]).replace(t[i],t_A).replace(t[j],t_A).simplify()\n",
        "\n",
        "concavity = (W00+W11-W01-W10).subs(t_A, a/(a+b)).simplify()\n",
        "sol = solve(concavity,b)[0]\n",
        "display(Eq(b,sol))"
      ],
      "metadata": {
        "id": "NAATEvxC17Ja",
        "outputId": "125a9d5b-469b-4ee3-97fe-4eb274e31f3c",
        "colab": {
          "base_uri": "https://localhost:8080/",
          "height": 49
        }
      },
      "execution_count": 7,
      "outputs": [
        {
          "output_type": "display_data",
          "data": {
            "text/plain": [
              "Eq(b, a/(2*a - 1))"
            ],
            "text/latex": "$\\displaystyle b = \\frac{a}{2 a - 1}$"
          },
          "metadata": {}
        }
      ]
    },
    {
      "cell_type": "markdown",
      "source": [
        "Rearranging gives the formular from the paper.\n"
      ],
      "metadata": {
        "id": "LYH8GsUUh0kc"
      }
    },
    {
      "cell_type": "code",
      "source": [
        "display(Eq(2/(1/a+1/b),(2/(1/sol+1/a)).simplify()))"
      ],
      "metadata": {
        "id": "tsEvnH9a17MB",
        "outputId": "3f5b5688-bb44-41a1-c424-719f4275b41c",
        "colab": {
          "base_uri": "https://localhost:8080/",
          "height": 58
        }
      },
      "execution_count": 8,
      "outputs": [
        {
          "output_type": "display_data",
          "data": {
            "text/plain": [
              "Eq(2/(1/b + 1/a), 1)"
            ],
            "text/latex": "$\\displaystyle \\frac{2}{\\frac{1}{b} + \\frac{1}{a}} = 1$"
          },
          "metadata": {}
        }
      ]
    }
  ]
}
